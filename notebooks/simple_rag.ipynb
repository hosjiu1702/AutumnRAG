{
 "cells": [
  {
   "cell_type": "code",
   "execution_count": 1,
   "id": "95d5ac6c",
   "metadata": {},
   "outputs": [
    {
     "name": "stdout",
     "output_type": "stream",
     "text": [
      "/usr/local/bin/python\n"
     ]
    }
   ],
   "source": [
    "!which python"
   ]
  },
  {
   "cell_type": "code",
   "execution_count": 2,
   "id": "cace96bd-8204-411e-a60b-532e7ed74830",
   "metadata": {},
   "outputs": [],
   "source": [
    "import pprint"
   ]
  },
  {
   "cell_type": "code",
   "execution_count": 3,
   "id": "6a211bdd",
   "metadata": {},
   "outputs": [
    {
     "name": "stdout",
     "output_type": "stream",
     "text": [
      "[Document(metadata={'source': '../data/kht_contract.docx'}, page_content='GARAGE OTO HUY HUNG \\n\\nCÔNG TY TNHH MTV KIM HUY THÀNH\\n\\nTổ 58 Thanh Vinh 1, Hòa Khánh Bắc, LiênChiểu, Đà Nẵng\\n\\n\\n\\nCỘNG HÒA XÃ HÔI CHỦ NGHĨA VIỆT NAM\\n\\nĐộc lập – Tự do – Hạnh phúc\\n\\n______o0o______\\n\\nHỢP ĐỒNG SỬA CHỮA XE\\n\\nCăn cứ Bộ luật thương mại nước CHXHCN Việt Nam số 33/2005/QH11 được Quốc hội thông qua ngày 14/6/2005\\n\\nCăn cứ vào nhu cầu và năng lực của hai bên.\\n\\nHôm nay, ngày ..... tháng ..... năm 2025 tại văn phòng công ty TNHH MTV KIM HUY THÀNH chúng tôi gồm có:\\n\\n\\tĐẠI DIỆN BÊN A\\t: CÔNG TY TNHH THƯƠNG MẠI VÀ DỊCH VỤ HIỀN HUY\\n\\n\\t\\tĐại diện\\t: Huỳnh Văn Chỉnh\\tChức vụ: Giám đốc\\n\\n\\t\\tĐịa chỉ\\t: Thôn Phước Hưng, Xã Hoà Nhơn, H. Hoà Vang, Tp. Đà Nẵng, Việt Nam\\n\\n\\t\\tMST\\t: 0400979608\\n\\n\\t\\tTài khoản\\t: 2008201002129\\n\\n\\t\\tTại\\t: Ngân hàng NN&PTNT Huyện Hoà Vang, thành phố Đà Nẵng.\\n\\n\\t\\tĐẠI DIỆN BÊN B\\t: CÔNG TY TNHH MTV KIM HUY THÀNH\\n\\n\\t\\tĐại diện\\t: Dương Thị Kiều Linh\\tChức vụ: Giám đốc\\n\\n\\t\\tĐịa chỉ\\t: Tổ 58 Thanh Vinh 1, P. Hòa Khánh Bắc, Q. Liên Chiểu, Tp. Đà Nẵng\\n\\n\\t\\tĐiện thoại\\t: 0934.891. 142\\n\\n\\t\\tMST\\t: 0401493070\\n\\n\\t\\tTài khoản \\t: 19025832724010\\n\\n\\t\\tTại\\t: Ngân hàng Techcombank Hòa Khánh –  CN Đà Nẵng\\n\\n\\t\\tĐIỀU 1: NỘI DUNG HỢP ĐỒNG\\n\\n\\t\\t\\tBên B đồng ý sữa chữa xe ô tô mang biển số 43C-114.35 cho bên A.\\n\\n\\t\\t\\tTổng giá trị hợp đồng\\t: 32.727.820 (VNĐ) _ đã bao gồm thuế VAT 08%\\n\\n\\t\\t\\t\\t(Bằng chữ: Ba mươi hai triệu bảy trăm hai mươi bảy nghìn tám trăm hai mươi đồng.)\\n\\n\\t\\t\\tĐIỀU 2: THỜI GIAN THỰC HIỆN VÀ PHƯƠNG THỨC THANH TOÁN\\n\\n\\t\\t\\t Thời gian thực hiện: bắt đầu từ ngày …… / ….. / ……. đến ngày …… / …… / ……….\\n\\n\\t\\t\\t Phương thức thanh toán: Tiền mặt hoặc chuyển khoản\\n\\n\\t\\t\\t Điều kiện thanh toán: Sau khi công việc gia công, sửa chữa đã hoàn thành thì hai bên lập biên bản nghiệm thu và bàn giao sửa chữa. Bên A sẽ nghiệm thu đúng theo nội dung đã được thống nhất giữa hai bên và thanh toán toàn bộ số tiền cho bên B theo hợp đồng.\\n\\n\\t\\t\\tĐIỀU 3: TRÁCH NHIỆM CỦA MỖI BÊN\\n\\n\\t\\t\\tTrách nhiệm của bên A:\\n\\n\\t\\t\\tBố trí người tại gara để giám sát công việc gia công sửa chữa.\\n\\n\\t\\t\\tLập biên bản nghiệm thu bàn giao giữa hai bên.\\n\\n\\t\\t\\tThanh toán theo điều 2 hợp đồng.\\n\\n\\t\\t\\tTrách nhiệm của bên B:\\n\\n\\t\\t\\tChịu trách nhiệm gia công, sửa chữa theo đúng nội dung đã được thống nhất giữa hai bên. Đúng tiến độ, đạt yêu cầu chất lượng, kỹ và mỹ thuật.\\n\\n\\t\\t\\tXuất hóa đơn tài chính cho bên A.\\n\\n\\t\\t\\tĐIỀU 4: ĐIỀU KHOẢN CHUNG\\n\\n\\t\\t\\tHai bên cam kết thực hiện đầy đủ các điều khoản đã ghi trong hợp đồng này, trong quá trình thực hiện nếu có trở ngại khó khăn thì hai bên phải thông báo cho nhau và cùng nhau giải quyết.\\n\\n\\t\\t\\tHợp đồng này có hiệu lực kể từ ngày ký cho đến khi hai bên thanh toán xong Hợp đồng này xem như đã được thanh lý.\\n\\n\\t\\t\\tHợp đồng được lập thành hai (02) bản, mỗi bên giữ một (01) bản và có giá trị pháp lý như nhau.\\n\\n\\t\\t\\t\\n\\n\\t\\t\\tĐẠI DIỆN BÊN A\\t \\tĐẠI DIỆN BÊN B')]\n"
     ]
    }
   ],
   "source": [
    "### Indexing\n",
    "# 1. Load Documents\n",
    "from langchain_community.document_loaders import Docx2txtLoader\n",
    "\n",
    "data_path = \"../data/kht_contract.docx\"\n",
    "word_loader = Docx2txtLoader(data_path)\n",
    "documents = word_loader.load()\n",
    "\n",
    "print(documents)"
   ]
  },
  {
   "cell_type": "code",
   "execution_count": 31,
   "id": "b2945fdc",
   "metadata": {},
   "outputs": [
    {
     "name": "stdout",
     "output_type": "stream",
     "text": [
      "[Document(metadata={'source': '../data/kht_contract.docx'}, page_content='GARAGE OTO HUY HUNG \\n\\nCÔNG TY TNHH MTV KIM HUY THÀNH'), Document(metadata={'source': '../data/kht_contract.docx'}, page_content='Tổ 58 Thanh Vinh 1, Hòa Khánh Bắc, LiênChiểu, Đà Nẵng\\n\\n\\n\\nCỘNG HÒA XÃ HÔI CHỦ NGHĨA VIỆT NAM'), Document(metadata={'source': '../data/kht_contract.docx'}, page_content='Độc lập – Tự do – Hạnh phúc\\n\\n______o0o______\\n\\nHỢP ĐỒNG SỬA CHỮA XE'), Document(metadata={'source': '../data/kht_contract.docx'}, page_content='Căn cứ Bộ luật thương mại nước CHXHCN Việt Nam số 33/2005/QH11 được Quốc hội thông qua ngày'), Document(metadata={'source': '../data/kht_contract.docx'}, page_content='qua ngày 14/6/2005'), Document(metadata={'source': '../data/kht_contract.docx'}, page_content='Căn cứ vào nhu cầu và năng lực của hai bên.'), Document(metadata={'source': '../data/kht_contract.docx'}, page_content='Hôm nay, ngày ..... tháng ..... năm 2025 tại văn phòng công ty TNHH MTV KIM HUY THÀNH chúng tôi'), Document(metadata={'source': '../data/kht_contract.docx'}, page_content='chúng tôi gồm có:'), Document(metadata={'source': '../data/kht_contract.docx'}, page_content='ĐẠI DIỆN BÊN A\\t: CÔNG TY TNHH THƯƠNG MẠI VÀ DỊCH VỤ HIỀN HUY'), Document(metadata={'source': '../data/kht_contract.docx'}, page_content='Đại diện\\t: Huỳnh Văn Chỉnh\\tChức vụ: Giám đốc'), Document(metadata={'source': '../data/kht_contract.docx'}, page_content='Địa chỉ\\t: Thôn Phước Hưng, Xã Hoà Nhơn, H. Hoà Vang, Tp. Đà Nẵng, Việt Nam\\n\\n\\t\\tMST\\t: 0400979608'), Document(metadata={'source': '../data/kht_contract.docx'}, page_content='Tài khoản\\t: 2008201002129\\n\\n\\t\\tTại\\t: Ngân hàng NN&PTNT Huyện Hoà Vang, thành phố Đà Nẵng.'), Document(metadata={'source': '../data/kht_contract.docx'}, page_content='ĐẠI DIỆN BÊN B\\t: CÔNG TY TNHH MTV KIM HUY THÀNH'), Document(metadata={'source': '../data/kht_contract.docx'}, page_content='Đại diện\\t: Dương Thị Kiều Linh\\tChức vụ: Giám đốc'), Document(metadata={'source': '../data/kht_contract.docx'}, page_content='Địa chỉ\\t: Tổ 58 Thanh Vinh 1, P. Hòa Khánh Bắc, Q. Liên Chiểu, Tp. Đà Nẵng'), Document(metadata={'source': '../data/kht_contract.docx'}, page_content='Điện thoại\\t: 0934.891. 142\\n\\n\\t\\tMST\\t: 0401493070\\n\\n\\t\\tTài khoản \\t: 19025832724010'), Document(metadata={'source': '../data/kht_contract.docx'}, page_content='Tại\\t: Ngân hàng Techcombank Hòa Khánh –  CN Đà Nẵng\\n\\n\\t\\tĐIỀU 1: NỘI DUNG HỢP ĐỒNG'), Document(metadata={'source': '../data/kht_contract.docx'}, page_content='Bên B đồng ý sữa chữa xe ô tô mang biển số 43C-114.35 cho bên A.'), Document(metadata={'source': '../data/kht_contract.docx'}, page_content='Tổng giá trị hợp đồng\\t: 32.727.820 (VNĐ) _ đã bao gồm thuế VAT 08%'), Document(metadata={'source': '../data/kht_contract.docx'}, page_content='(Bằng chữ: Ba mươi hai triệu bảy trăm hai mươi bảy nghìn tám trăm hai mươi đồng.)'), Document(metadata={'source': '../data/kht_contract.docx'}, page_content='ĐIỀU 2: THỜI GIAN THỰC HIỆN VÀ PHƯƠNG THỨC THANH TOÁN'), Document(metadata={'source': '../data/kht_contract.docx'}, page_content='Thời gian thực hiện: bắt đầu từ ngày …… / ….. / ……. đến ngày …… / …… / ……….'), Document(metadata={'source': '../data/kht_contract.docx'}, page_content='Phương thức thanh toán: Tiền mặt hoặc chuyển khoản'), Document(metadata={'source': '../data/kht_contract.docx'}, page_content='Điều kiện thanh toán: Sau khi công việc gia công, sửa chữa đã hoàn thành thì hai bên lập biên'), Document(metadata={'source': '../data/kht_contract.docx'}, page_content='lập biên bản nghiệm thu và bàn giao sửa chữa. Bên A sẽ nghiệm thu đúng theo nội dung đã được'), Document(metadata={'source': '../data/kht_contract.docx'}, page_content='đã được thống nhất giữa hai bên và thanh toán toàn bộ số tiền cho bên B theo hợp đồng.'), Document(metadata={'source': '../data/kht_contract.docx'}, page_content='ĐIỀU 3: TRÁCH NHIỆM CỦA MỖI BÊN\\n\\n\\t\\t\\tTrách nhiệm của bên A:'), Document(metadata={'source': '../data/kht_contract.docx'}, page_content='Bố trí người tại gara để giám sát công việc gia công sửa chữa.'), Document(metadata={'source': '../data/kht_contract.docx'}, page_content='Lập biên bản nghiệm thu bàn giao giữa hai bên.\\n\\n\\t\\t\\tThanh toán theo điều 2 hợp đồng.'), Document(metadata={'source': '../data/kht_contract.docx'}, page_content='Trách nhiệm của bên B:'), Document(metadata={'source': '../data/kht_contract.docx'}, page_content='Chịu trách nhiệm gia công, sửa chữa theo đúng nội dung đã được thống nhất giữa hai bên. Đúng'), Document(metadata={'source': '../data/kht_contract.docx'}, page_content='bên. Đúng tiến độ, đạt yêu cầu chất lượng, kỹ và mỹ thuật.'), Document(metadata={'source': '../data/kht_contract.docx'}, page_content='Xuất hóa đơn tài chính cho bên A.\\n\\n\\t\\t\\tĐIỀU 4: ĐIỀU KHOẢN CHUNG'), Document(metadata={'source': '../data/kht_contract.docx'}, page_content='Hai bên cam kết thực hiện đầy đủ các điều khoản đã ghi trong hợp đồng này, trong quá trình thực'), Document(metadata={'source': '../data/kht_contract.docx'}, page_content='thực hiện nếu có trở ngại khó khăn thì hai bên phải thông báo cho nhau và cùng nhau giải quyết.'), Document(metadata={'source': '../data/kht_contract.docx'}, page_content='Hợp đồng này có hiệu lực kể từ ngày ký cho đến khi hai bên thanh toán xong Hợp đồng này xem như'), Document(metadata={'source': '../data/kht_contract.docx'}, page_content='xem như đã được thanh lý.'), Document(metadata={'source': '../data/kht_contract.docx'}, page_content='Hợp đồng được lập thành hai (02) bản, mỗi bên giữ một (01) bản và có giá trị pháp lý như nhau.'), Document(metadata={'source': '../data/kht_contract.docx'}, page_content='ĐẠI DIỆN BÊN A\\t \\tĐẠI DIỆN BÊN B')]\n"
     ]
    }
   ],
   "source": [
    "# 2. Text Splitting\n",
    "# Should split text before feeding it into Text Embedder model to get embedding\n",
    "# One of advantages of this strategy is to make it work with small context window Language Models\n",
    "from langchain.text_splitter import RecursiveCharacterTextSplitter\n",
    "\n",
    "\n",
    "text_splitter = RecursiveCharacterTextSplitter(chunk_size=100, chunk_overlap=10)\n",
    "splits = text_splitter.split_documents(documents)\n",
    "print(splits)"
   ]
  },
  {
   "cell_type": "code",
   "execution_count": 32,
   "id": "b8926f73-7bdd-4d7c-96b0-6a717d761bb1",
   "metadata": {},
   "outputs": [],
   "source": [
    "# 3. Embedding Text + Create Vector Store\n",
    "# Embedding texts and build a vector store from newly generated embedddings for later use\n",
    "from langchain_community.vectorstores import FAISS\n",
    "from langchain_huggingface import HuggingFaceEmbeddings\n",
    "\n",
    "\n",
    "DEVICE = \"cpu\"\n",
    "text_embedder = HuggingFaceEmbeddings(\n",
    "    model_name=\"google/embeddinggemma-300m\", \n",
    "    query_encode_kwargs={\"prompt_name\": \"query\"},\n",
    "    encode_kwargs={\"prompt_name\": \"document\"},\n",
    "    model_kwargs={\"device\": DEVICE}\n",
    ")\n",
    "vector_store = FAISS.from_documents(\n",
    "    documents=splits,\n",
    "    embedding=text_embedder,\n",
    "    distance_strategy=\"MAX_INNER_PRODUCT\" # Must use if our text embedding model is Google's EmbeddingGemma\n",
    ")"
   ]
  },
  {
   "cell_type": "code",
   "execution_count": 36,
   "id": "7d68aa1c",
   "metadata": {
    "scrolled": true
   },
   "outputs": [
    {
     "name": "stdout",
     "output_type": "stream",
     "text": [
      "output 0\n",
      "page_content='Hợp đồng được lập thành hai (02) bản, mỗi bên giữ một (01) bản và có giá trị pháp lý như nhau.' metadata={'source': '../data/kht_contract.docx'}\n",
      "\n",
      "\n",
      "output 1\n",
      "page_content='Hợp đồng này có hiệu lực kể từ ngày ký cho đến khi hai bên thanh toán xong Hợp đồng này xem như' metadata={'source': '../data/kht_contract.docx'}\n",
      "\n",
      "\n",
      "output 2\n",
      "page_content='đã được thống nhất giữa hai bên và thanh toán toàn bộ số tiền cho bên B theo hợp đồng.' metadata={'source': '../data/kht_contract.docx'}\n",
      "\n",
      "\n",
      "output 3\n",
      "page_content='Hai bên cam kết thực hiện đầy đủ các điều khoản đã ghi trong hợp đồng này, trong quá trình thực' metadata={'source': '../data/kht_contract.docx'}\n",
      "\n",
      "\n",
      "output 4\n",
      "page_content='Phương thức thanh toán: Tiền mặt hoặc chuyển khoản' metadata={'source': '../data/kht_contract.docx'}\n",
      "\n",
      "\n"
     ]
    }
   ],
   "source": [
    "# 4. Information Retrieval\n",
    "test_query = \"hãy cho biết hình thức thanh toán được cho phép trong hợp đồng\"\n",
    "top_k = 5\n",
    "# retrieval_results = vector_store.similarity_search(test_query, k=top_k)\n",
    "retriever = vector_store.as_retriever(search_kwargs={'k': top_k})\n",
    "retrieval_results = retriever.invoke(test_query)\n",
    "\n",
    "for i in range(top_k):\n",
    "    print(f\"output {i}\")\n",
    "    print(retrieval_results[i])\n",
    "    print(\"\\n\")"
   ]
  },
  {
   "cell_type": "code",
   "execution_count": 11,
   "id": "1dd4d9d8",
   "metadata": {},
   "outputs": [
    {
     "data": {
      "text/plain": [
       "ChatOpenAI(client=<openai.resources.chat.completions.completions.Completions object at 0x744f0c716cd0>, async_client=<openai.resources.chat.completions.completions.AsyncCompletions object at 0x744f185eeb10>, root_client=<openai.OpenAI object at 0x7450b1f3b6d0>, root_async_client=<openai.AsyncOpenAI object at 0x744f0c7506d0>, model_name='Qwen/Qwen3-4B-Instruct-2507', model_kwargs={}, openai_api_key=SecretStr('**********'), openai_api_base='http://localhost:8000/v1')"
      ]
     },
     "execution_count": 11,
     "metadata": {},
     "output_type": "execute_result"
    }
   ],
   "source": [
    "# 5. Generation\n",
    "from langchain_openai import ChatOpenAI\n",
    "from langchain_core.prompts import ChatPromptTemplate\n",
    "\n",
    "# MODEL_SERVER_URL = \"https://92d2avvnzvqndz-8000.proxy.runpod.net/v1/completions\" # host LLM, for example, Runpod.\n",
    "MODEL_SERVER_URL = \"http://localhost:8000/v1\"\n",
    "\n",
    "model = ChatOpenAI(\n",
    "    model=\"Qwen/Qwen3-4B-Instruct-2507\",\n",
    "    openai_api_base=MODEL_SERVER_URL,\n",
    "    openai_api_key=\"EMPTY\"\n",
    ")\n",
    "\n",
    "model"
   ]
  },
  {
   "cell_type": "code",
   "execution_count": 37,
   "id": "73087b67-779d-45af-b08b-a9fee176cc3d",
   "metadata": {
    "scrolled": true
   },
   "outputs": [],
   "source": [
    "TEMPLATE = \"\"\"hãy trả lời câu hỏi dựa trên ngữ cảnh sau đây\n",
    "{context}\n",
    "\n",
    "Question: {question}\n",
    "\"\"\"\n",
    "prompt = ChatPromptTemplate.from_template(TEMPLATE)\n",
    "chain = prompt | model\n",
    "\n",
    "output = chain.invoke({\n",
    "    'context': retrieval_results,\n",
    "    'question': test_query\n",
    "})"
   ]
  },
  {
   "cell_type": "code",
   "execution_count": 38,
   "id": "5015a16e-6e77-489e-8038-891fcfe111a4",
   "metadata": {},
   "outputs": [
    {
     "name": "stdout",
     "output_type": "stream",
     "text": [
      "('Hình thức thanh toán được cho phép trong hợp đồng là: **tiền mặt hoặc chuyển '\n",
      " 'khoản**.')\n"
     ]
    }
   ],
   "source": [
    "pprint.pprint(output.content)"
   ]
  }
 ],
 "metadata": {
  "kernelspec": {
   "display_name": "autumn-rag",
   "language": "python",
   "name": "autumn-rag"
  },
  "language_info": {
   "codemirror_mode": {
    "name": "ipython",
    "version": 3
   },
   "file_extension": ".py",
   "mimetype": "text/x-python",
   "name": "python",
   "nbconvert_exporter": "python",
   "pygments_lexer": "ipython3",
   "version": "3.11.13"
  }
 },
 "nbformat": 4,
 "nbformat_minor": 5
}
